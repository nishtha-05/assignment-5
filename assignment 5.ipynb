{
 "cells": [
  {
   "cell_type": "code",
   "execution_count": 27,
   "id": "9f43dee2-8673-4031-93f9-2d95162beb48",
   "metadata": {},
   "outputs": [
    {
     "ename": "SyntaxError",
     "evalue": "'return' outside function (3448435365.py, line 35)",
     "output_type": "error",
     "traceback": [
      "\u001b[0;36m  Cell \u001b[0;32mIn[27], line 35\u001b[0;36m\u001b[0m\n\u001b[0;31m    return (reduce(lambda x ,y : x*y,l))\u001b[0m\n\u001b[0m    ^\u001b[0m\n\u001b[0;31mSyntaxError\u001b[0m\u001b[0;31m:\u001b[0m 'return' outside function\n"
     ]
    }
   ],
   "source": [
    "from functools import reduce\n",
    "\n",
    "def product(l):\n",
    "    l=[]\n",
    "\n",
    "    for i in list1:\n",
    "    \n",
    "        if type(i) == int:\n",
    "            l.append(i)\n",
    "        else:\n",
    "            if type(i)== list or type(i)== tuple or type(i)== dict or type(i)== set :\n",
    "            \n",
    "                for j in i :\n",
    "                \n",
    "                    if type(j) == int:\n",
    "                        l.append(j)\n",
    "                    \n",
    "                    elif type(j) == set:\n",
    "                        for k in j:\n",
    "                            l.append(k)\n",
    "                        \n",
    "                    elif type(j) == dict:\n",
    "                        for k , v in j.items():\n",
    "                            if type(v) or type(k) == int:\n",
    "                                l.append(v)\n",
    "                                l.append(k)\n",
    "                else:\n",
    "                    if type(j) == list or type(j) == tuple:\n",
    "                        for k in j:\n",
    "                            l.append(k)\n",
    "    return (reduce(lambda x ,y : x*y,l))\n",
    "\n",
    "\n",
    "list1 = [1,2,3,4, [44,55,66, True], False, (34,56,78,89,34), {1,2,3,3,2,1}, {1:34, \"key2\": [55, 67, 78, 89], 4: (45,\n",
    "22, 61, 34)}, [56, 'data science'], 'Machine Learning']\n"
   ]
  },
  {
   "cell_type": "code",
   "execution_count": 11,
   "id": "f9468312-239d-4bca-a731-eefcac53109f",
   "metadata": {},
   "outputs": [],
   "source": [
    "list1 = [1,2,3,4, [44,55,66, True], False, (34,56,78,89,34), {1,2,3,3,2,1}, {1:34, \"key2\": [55, 67, 78, 89], 4: (45,\n",
    "22, 61, 34)}, [56, 'data science'], 'Machine Learning']"
   ]
  },
  {
   "cell_type": "code",
   "execution_count": null,
   "id": "1ac50168-0d52-4d91-a567-b20ed27619c6",
   "metadata": {},
   "outputs": [],
   "source": []
  },
  {
   "cell_type": "code",
   "execution_count": 4,
   "id": "d7dad804-814a-4eeb-9ede-654ed44f5227",
   "metadata": {},
   "outputs": [
    {
     "name": "stdout",
     "output_type": "stream",
     "text": [
      "i$wznt$to$yezome$z$dztz$szientist.\n"
     ]
    }
   ],
   "source": [
    "2.# encryption program\n",
    "\n",
    "s=\"I want to become a Data Scientist.\"\n",
    "a=s.lower()\n",
    "\n",
    "\n",
    "for i in range(len(a)):\n",
    "    if a[i] == \"a\":\n",
    "        a=a.replace(\"a\" ,\"z\")\n",
    "        \n",
    "    elif a[i] == \"b\":\n",
    "         a=a.replace(\"b\" ,\"y\")\n",
    "            \n",
    "    elif a[i] == \"c\":\n",
    "         a=a.replace(\"c\" ,\"z\")\n",
    "            \n",
    "    elif a[i] == \" \":\n",
    "         a=a.replace(\" \" ,\"$\")\n",
    "    else:\n",
    "        a=a\n",
    "print(a)        \n",
    "        \n",
    "        \n",
    "    \n",
    "\n"
   ]
  }
 ],
 "metadata": {
  "kernelspec": {
   "display_name": "Python 3 (ipykernel)",
   "language": "python",
   "name": "python3"
  },
  "language_info": {
   "codemirror_mode": {
    "name": "ipython",
    "version": 3
   },
   "file_extension": ".py",
   "mimetype": "text/x-python",
   "name": "python",
   "nbconvert_exporter": "python",
   "pygments_lexer": "ipython3",
   "version": "3.10.8"
  }
 },
 "nbformat": 4,
 "nbformat_minor": 5
}
